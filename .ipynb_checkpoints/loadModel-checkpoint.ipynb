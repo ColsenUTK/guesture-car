{
 "cells": [
  {
   "cell_type": "code",
   "execution_count": 16,
   "id": "f365212c-a957-415e-bea0-4b73ee9ca6ed",
   "metadata": {},
   "outputs": [
    {
     "name": "stdout",
     "output_type": "stream",
     "text": [
      "\u001b[1m1/1\u001b[0m \u001b[32m━━━━━━━━━━━━━━━━━━━━\u001b[0m\u001b[37m\u001b[0m \u001b[1m0s\u001b[0m 62ms/step\n",
      "[[3.71172935e-01 1.40306680e-03 3.22763455e-10 8.43505387e-12\n",
      "  1.19098008e-01 9.37103994e-09 1.82901147e-06 4.86826135e-11\n",
      "  8.80566367e-05 4.54710069e-04 1.23944602e-07 3.97074018e-06\n",
      "  2.18418792e-01 8.82725988e-04 4.69947992e-09 1.45920304e-13\n",
      "  1.01741220e-13 1.15527924e-04 4.84779514e-02 2.77621038e-02\n",
      "  6.63690207e-06 7.26547489e-10 1.00432473e-09 2.11304188e-01\n",
      "  7.73937150e-04 3.54168878e-05]]\n",
      "Predicted class: A, Probability: 0.3711729347705841\n",
      "Predicted class: M, Probability: 0.21841879189014435\n",
      "Predicted class: X, Probability: 0.2113041877746582\n",
      "Predicted class: E, Probability: 0.1190980076789856\n",
      "Predicted class: S, Probability: 0.04847795143723488\n"
     ]
    }
   ],
   "source": [
    "import tensorflow as tf\n",
    "from tensorflow.keras.models import load_model\n",
    "from PIL import Image\n",
    "import numpy as np\n",
    "\n",
    "# Load the trained Keras model\n",
    "model = load_model('COSC307_Final_CNN3.keras')  # Replace with the path to your model file\n",
    "\n",
    "# Function to preprocess the image\n",
    "# Apply mean/std from training data\n",
    "mean = 128.33125\n",
    "std = 15.842568\n",
    "def preprocess_image(image_path):\n",
    "    # Open the image in grayscale mode\n",
    "    img = Image.open(image_path).convert('L')  # 'L' mode converts to grayscale\n",
    "    # Resize the image to (128, 128)\n",
    "    img = img.resize((128, 128))\n",
    "    # Convert the image to a NumPy array and scale pixel values to [-1, 1]\n",
    "    img_array = (np.array(img, dtype=np.float32) - mean) / std\n",
    "    # Add batch size (1) and channel dimension (grayscale is 1 channel)\n",
    "    img_array = np.expand_dims(img_array, axis=(0, -1))  # Shape: (1, 128, 128, 1)\n",
    "    return img_array\n",
    "\n",
    "# Provide the path to your image\n",
    "image_path = 'test_e.jpg'  # Replace with your image file path\n",
    "processed_image = preprocess_image(image_path)\n",
    "\n",
    "# Make a prediction\n",
    "prediction = model.predict(processed_image, batch_size=1)\n",
    "maxx = 0\n",
    "maxIndex = -1\n",
    "\n",
    "print(prediction)\n",
    "\n",
    "'''\n",
    "# Print single most likely class\n",
    "for index, prediction in enumerate(prediction[0]):\n",
    "    if prediction > maxx:\n",
    "        maxx = prediction\n",
    "        maxIndex = index\n",
    "print(f\"Predicted class: {chr(ord('A') + maxIndex)}, Probability: {maxx}\") '''\n",
    "\n",
    "# print 5 most likely classes:\n",
    "prediction_indices = np.argsort((prediction[0]))[::-1]\n",
    "sorted_prediction = prediction[0][prediction_indices]\n",
    "\n",
    "for i in range(5):\n",
    "  print(f\"Predicted class: {chr(ord('A') + (prediction_indices[i]))}, Probability: {sorted_prediction[i]}\") "
   ]
  },
  {
   "cell_type": "code",
   "execution_count": null,
   "id": "a5879ef3-2c64-4b62-b199-553961c212b1",
   "metadata": {},
   "outputs": [],
   "source": []
  }
 ],
 "metadata": {
  "kernelspec": {
   "display_name": "Python 3 (ipykernel)",
   "language": "python",
   "name": "python3"
  },
  "language_info": {
   "codemirror_mode": {
    "name": "ipython",
    "version": 3
   },
   "file_extension": ".py",
   "mimetype": "text/x-python",
   "name": "python",
   "nbconvert_exporter": "python",
   "pygments_lexer": "ipython3",
   "version": "3.11.9"
  }
 },
 "nbformat": 4,
 "nbformat_minor": 5
}
