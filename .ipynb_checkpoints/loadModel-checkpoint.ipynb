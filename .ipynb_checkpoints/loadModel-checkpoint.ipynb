{
 "cells": [
  {
   "cell_type": "code",
   "execution_count": 27,
   "id": "f365212c-a957-415e-bea0-4b73ee9ca6ed",
   "metadata": {},
   "outputs": [
    {
     "name": "stdout",
     "output_type": "stream",
     "text": [
      "\u001b[1m1/1\u001b[0m \u001b[32m━━━━━━━━━━━━━━━━━━━━\u001b[0m\u001b[37m\u001b[0m \u001b[1m0s\u001b[0m 133ms/step\n",
      "[[1.5446922e-11 1.9817271e-10 8.6339753e-19 2.5957269e-13 2.1426469e-07\n",
      "  3.3789659e-06 1.0941666e-01 2.4005824e-01 1.0660531e-06 4.7940025e-01\n",
      "  2.8311476e-08 5.2745476e-17 9.7312540e-09 8.7944363e-06 2.4224564e-10\n",
      "  1.6372746e-01 4.4382809e-08 3.4369716e-08 2.0994568e-08 1.2468012e-12\n",
      "  5.7454302e-10 1.6455723e-10 2.4114593e-08 1.9509001e-09 3.0713421e-04\n",
      "  6.4242155e-17 2.3135256e-07 2.0237156e-12 7.0763384e-03]]\n",
      "Predicted class: J, Probability: 0.47940024733543396\n",
      "Predicted class: H, Probability: 0.24005824327468872\n",
      "Predicted class: P, Probability: 0.16372746229171753\n",
      "Predicted class: G, Probability: 0.109416663646698\n",
      "Predicted class: ], Probability: 0.0070763383992016315\n"
     ]
    }
   ],
   "source": [
    "import tensorflow as tf\n",
    "from tensorflow.keras.models import load_model\n",
    "from PIL import Image\n",
    "import numpy as np\n",
    "\n",
    "# Load the trained Keras model\n",
    "model = load_model('COSC307_Final_CNN2.keras')  # Replace with the path to your model file\n",
    "\n",
    "# Function to preprocess the image\n",
    "def preprocess_image(image_path):\n",
    "    # Open the image in grayscale mode\n",
    "    img = Image.open(image_path).convert('L')  # 'L' mode converts to grayscale\n",
    "    # Resize the image to (128, 128)\n",
    "    img = img.resize((128, 128))\n",
    "    # Convert the image to a NumPy array and scale pixel values to [0, 1]\n",
    "    img_array = np.array(img, dtype=np.float32) / 255.0\n",
    "    # Add batch size (1) and channel dimension (grayscale is 1 channel)\n",
    "    img_array = np.expand_dims(img_array, axis=(0, -1))  # Shape: (1, 128, 128, 1)\n",
    "    return img_array\n",
    "\n",
    "# Provide the path to your image\n",
    "image_path = 'test_h.jpg'  # Replace with your image file path\n",
    "processed_image = preprocess_image(image_path)\n",
    "\n",
    "# Make a prediction\n",
    "prediction = model.predict(processed_image, batch_size=1)\n",
    "maxx = 0\n",
    "maxIndex = -1\n",
    "\n",
    "print(prediction)\n",
    "\n",
    "'''\n",
    "# Print single most likely class\n",
    "for index, prediction in enumerate(prediction[0]):\n",
    "    if prediction > maxx:\n",
    "        maxx = prediction\n",
    "        maxIndex = index\n",
    "print(f\"Predicted class: {chr(ord('A') + maxIndex)}, Probability: {maxx}\") '''\n",
    "\n",
    "# print 5 most likely classes:\n",
    "prediction_indices = np.argsort((prediction[0]))[::-1]\n",
    "sorted_prediction = prediction[0][prediction_indices]\n",
    "\n",
    "for i in range(5):\n",
    "  print(f\"Predicted class: {chr(ord('A') + prediction_indices[i])}, Probability: {sorted_prediction[i]}\") "
   ]
  },
  {
   "cell_type": "code",
   "execution_count": null,
   "id": "a5879ef3-2c64-4b62-b199-553961c212b1",
   "metadata": {},
   "outputs": [],
   "source": []
  }
 ],
 "metadata": {
  "kernelspec": {
   "display_name": "Python 3 (ipykernel)",
   "language": "python",
   "name": "python3"
  },
  "language_info": {
   "codemirror_mode": {
    "name": "ipython",
    "version": 3
   },
   "file_extension": ".py",
   "mimetype": "text/x-python",
   "name": "python",
   "nbconvert_exporter": "python",
   "pygments_lexer": "ipython3",
   "version": "3.11.9"
  }
 },
 "nbformat": 4,
 "nbformat_minor": 5
}
