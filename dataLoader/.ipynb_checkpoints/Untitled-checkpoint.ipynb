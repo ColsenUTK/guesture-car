{
 "cells": [
  {
   "cell_type": "code",
   "execution_count": 1,
   "id": "fd93073c-3c2f-4a2a-8cd9-690d68d321ad",
   "metadata": {},
   "outputs": [],
   "source": [
    "# Libraries for data storage and image processing\n",
    "import numpy as np\n",
    "import pandas as pd\n",
    "import os, re\n",
    "from PIL import Image\n",
    "\n",
    "# TensorFlow/Keras\n",
    "import tensorflow as tf\n",
    "from tensorflow import keras\n",
    "from keras.models import Sequential\n",
    "from keras.preprocessing import image\n",
    "# TODO: figure out layers and method of training\n",
    "\n",
    "# SKLearn Libraries\n",
    "from sklearn.model_selection import train_test_split"
   ]
  },
  {
   "cell_type": "markdown",
   "id": "888c0ffd-3ac3-4675-859b-5ebfc7c22522",
   "metadata": {},
   "source": [
    "Now we read in the data from the local directory where it is stored, and process the images."
   ]
  },
  {
   "cell_type": "code",
   "execution_count": null,
   "id": "a8e4b7ea-2b7c-4fde-ac95-3f3f7addf209",
   "metadata": {},
   "outputs": [],
   "source": []
  }
 ],
 "metadata": {
  "kernelspec": {
   "display_name": "Python 3 (ipykernel)",
   "language": "python",
   "name": "python3"
  },
  "language_info": {
   "codemirror_mode": {
    "name": "ipython",
    "version": 3
   },
   "file_extension": ".py",
   "mimetype": "text/x-python",
   "name": "python",
   "nbconvert_exporter": "python",
   "pygments_lexer": "ipython3",
   "version": "3.11.9"
  }
 },
 "nbformat": 4,
 "nbformat_minor": 5
}
