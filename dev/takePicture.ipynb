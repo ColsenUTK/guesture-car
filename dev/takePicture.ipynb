{
 "cells": [
  {
   "cell_type": "markdown",
   "metadata": {},
   "source": [
    "This loop runs the body of the script, and ends when the \"q\" key is pressed"
   ]
  },
  {
   "cell_type": "code",
   "execution_count": null,
   "metadata": {},
   "outputs": [
    {
     "name": "stdout",
     "output_type": "stream",
     "text": [
      "(256, 256)\n",
      "(256, 256)\n",
      "(256, 256)\n",
      "(256, 256)\n",
      "(256, 256)\n",
      "(256, 256)\n",
      "(256, 256)\n",
      "(256, 256)\n",
      "(256, 256)\n",
      "(256, 256)\n",
      "(256, 256)\n",
      "(256, 256)\n",
      "(256, 256)\n",
      "(256, 256)\n",
      "(256, 256)\n",
      "(256, 256)\n",
      "(256, 256)\n",
      "(256, 256)\n",
      "(256, 256)\n",
      "(256, 256)\n",
      "(256, 256)\n",
      "(256, 256)\n",
      "(256, 256)\n",
      "(256, 256)\n",
      "(256, 256)\n",
      "(256, 256)\n",
      "(256, 256)\n",
      "(256, 256)\n",
      "(256, 256)\n",
      "(256, 256)\n"
     ]
    }
   ],
   "source": [
    "import cv2\n",
    "import time\n",
    "cam_port = 0 \n",
    "\n",
    "cam = cv2.VideoCapture(cam_port)\n",
    "workingDirectory = \"../image_assets/\"\n",
    "\n",
    "while True:\n",
    "    valid, frame = cam.read()   # frame holds the image object (np array)\n",
    " \n",
    "    # cv2.imshow(\"Current Frame\", frame)  # display current frame\n",
    "    # cv2.imwrite(workingDirectory + \"saveFrame.png\", frame)  # save current frame to files\n",
    "\n",
    "    # Center 256 pixels dimensions\n",
    "    size = frame.shape\n",
    "    x = size[1]\n",
    "    y = size[0]\n",
    "\n",
    "    left = int((x - 256) / 2)\n",
    "    right = left + 256\n",
    "    top = int((y - 256) / 2)\n",
    "    bottom = top + 256\n",
    "\n",
    "\n",
    "    start_point = (left, top)    # top left corner of box\n",
    "    end_point = (right, bottom)      # bottom right corner of box\n",
    "    color = (0, 0, 255)         # red (B,G,R)\n",
    "    thickness = 2\n",
    "\n",
    "    # rectangle is 256x256\n",
    "    rectangleOverlay = cv2.rectangle(frame, start_point, end_point, color, thickness)\n",
    "    cv2.imwrite(workingDirectory + \"frameRect.png\", rectangleOverlay)\n",
    "\n",
    "    cv2.imshow(\"Current Frame\", rectangleOverlay)\n",
    "\n",
    "    # crops image to 256x256\n",
    "    cropped = frame[top:bottom, left:right]\n",
    "    gray = cv2.cvtColor(cropped, cv2.COLOR_BGR2GRAY)\n",
    "    cv2.imwrite(workingDirectory + \"frame256.png\", gray)\n",
    "\n",
    "    print(gray.shape)\n",
    "    \n",
    "\n",
    "    if cv2.waitKey(1) == ord('q'):\n",
    "        break\n",
    "    \n",
    "    # loop every quarter of a second\n",
    "    time.sleep(.1)\n",
    "\n",
    "cam.release()\n",
    "cv2.destroyAllWindows()"
   ]
  }
 ],
 "metadata": {
  "kernelspec": {
   "display_name": ".car_venv",
   "language": "python",
   "name": "python3"
  },
  "language_info": {
   "codemirror_mode": {
    "name": "ipython",
    "version": 3
   },
   "file_extension": ".py",
   "mimetype": "text/x-python",
   "name": "python",
   "nbconvert_exporter": "python",
   "pygments_lexer": "ipython3",
   "version": "3.11.9"
  }
 },
 "nbformat": 4,
 "nbformat_minor": 2
}
