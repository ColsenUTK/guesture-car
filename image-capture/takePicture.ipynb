{
 "cells": [
  {
   "cell_type": "code",
   "execution_count": 29,
   "metadata": {},
   "outputs": [],
   "source": [
    "import cv2"
   ]
  },
  {
   "cell_type": "code",
   "execution_count": 30,
   "metadata": {},
   "outputs": [],
   "source": [
    "cam_port = 1\n",
    "cam = cv2.VideoCapture(cam_port)\n",
    "result, image = cam.read()"
   ]
  },
  {
   "cell_type": "code",
   "execution_count": 33,
   "metadata": {},
   "outputs": [],
   "source": [
    "if result: \n",
    "  \n",
    "    # showing result, it take frame name and image  \n",
    "    # output \n",
    "    cv2.imshow(\"GeeksForGeeks\", image) \n",
    "  \n",
    "    # saving image in local storage \n",
    "    cv2.imwrite(\"image_assets/GeeksForGeeks.png\", image) \n",
    "  \n",
    "    # If keyboard interrupt occurs, destroy image  \n",
    "    # window \n",
    "    cv2.waitKey(0) \n",
    "    cv2.destroyWindow(\"GeeksForGeeks\") \n",
    "  \n",
    "# If captured image is corrupted, moving to else part \n",
    "else: \n",
    "    print(\"No image detected. Please! try again\") "
   ]
  }
 ],
 "metadata": {
  "kernelspec": {
   "display_name": "base",
   "language": "python",
   "name": "python3"
  },
  "language_info": {
   "codemirror_mode": {
    "name": "ipython",
    "version": 3
   },
   "file_extension": ".py",
   "mimetype": "text/x-python",
   "name": "python",
   "nbconvert_exporter": "python",
   "pygments_lexer": "ipython3",
   "version": "3.12.6"
  }
 },
 "nbformat": 4,
 "nbformat_minor": 2
}
