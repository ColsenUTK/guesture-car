{
 "cells": [
  {
   "cell_type": "markdown",
   "metadata": {},
   "source": [
    "Import dependencies\n",
    "- opencv is used to capture frames and overlay a rectangle\n",
    "- pillow is used to crop the image to 200 pixels"
   ]
  },
  {
   "cell_type": "code",
   "execution_count": 2,
   "metadata": {},
   "outputs": [],
   "source": [
    "import cv2\n",
    "import time\n",
    "from PIL import Image\n",
    "cam_port = 0"
   ]
  },
  {
   "cell_type": "markdown",
   "metadata": {},
   "source": [
    "The _cam_ object is used to get constant images from the default computer camera"
   ]
  },
  {
   "cell_type": "code",
   "execution_count": 13,
   "metadata": {},
   "outputs": [],
   "source": [
    "cam = cv2.VideoCapture(cam_port)"
   ]
  },
  {
   "cell_type": "markdown",
   "metadata": {},
   "source": [
    "This loop runs the body of the script, and ends when the \"q\" key is pressed"
   ]
  },
  {
   "cell_type": "code",
   "execution_count": 20,
   "metadata": {},
   "outputs": [],
   "source": [
    "cam = cv2.VideoCapture(cam_port)\n",
    "\n",
    "while True:\n",
    "    valid, frame = cam.read()   # frame holds the image object (np array)\n",
    " \n",
    "    cv2.imshow(\"Current Frame\", frame)  # display current frame\n",
    "    cv2.imwrite(\"image_assets/saveFrame.png\", frame)  # save current frame to files\n",
    "\n",
    "\n",
    "    # Center 256 pixels dimensions\n",
    "    size = frame.shape\n",
    "    x = size[1]\n",
    "    y = size[0]\n",
    "\n",
    "    left = int((x - 256) / 2)\n",
    "    right = left + 256\n",
    "    top = int((y - 256) / 2)\n",
    "    bottom = top + 256\n",
    "\n",
    "\n",
    "    start_point = (left, top)    # top left corner of box\n",
    "    end_point = (right, bottom)      # bottom right corner of box\n",
    "    color = (0, 0, 255)         # red (B,G,R)\n",
    "    thickness = 2\n",
    "\n",
    "    # rectangle is 256x256\n",
    "    imageRect = cv2.rectangle(frame, start_point, end_point, color, thickness)\n",
    "    cv2.imwrite(\"image_assets/saveFrameRect.png\", imageRect)    # save version of image with overlayed rectangle\n",
    "\n",
    "    # crops image to 256x256\n",
    "    img = Image.open('image_assets/saveFrame.png')\n",
    "    box = (left, top, right, bottom)\n",
    "    imageCrop = img.crop(box)\n",
    "    imageCrop.save('image_assets/saveFrame256.png')\n",
    "    \n",
    "\n",
    "    if cv2.waitKey(1) == ord('q'):\n",
    "        break\n",
    "    \n",
    "    # loop every quarter of a second\n",
    "    time.sleep(.25)\n",
    "\n",
    "cam.release()\n",
    "cv2.destroyAllWindows()"
   ]
  },
  {
   "cell_type": "markdown",
   "metadata": {},
   "source": [
    "These cells below are for individual tests\n",
    "\n",
    "The following segment grabs a single image and stores it as _saveFrame.png_"
   ]
  },
  {
   "cell_type": "code",
   "execution_count": 4,
   "metadata": {},
   "outputs": [
    {
     "data": {
      "text/plain": [
       "True"
      ]
     },
     "execution_count": 4,
     "metadata": {},
     "output_type": "execute_result"
    }
   ],
   "source": [
    "valid, frame = cam.read()\n",
    "\n",
    "cv2.imwrite(\"image_assets/saveFrame.png\", frame)"
   ]
  },
  {
   "cell_type": "markdown",
   "metadata": {},
   "source": [
    "Crop test"
   ]
  },
  {
   "cell_type": "code",
   "execution_count": 5,
   "metadata": {},
   "outputs": [],
   "source": [
    "img = Image.open('image_assets/saveFrame.png')\n",
    "box = (220, 140, 420, 340)\n",
    "img2 = img.crop(box)\n",
    "img2.save('image_assets/saveFrame200.png')"
   ]
  },
  {
   "cell_type": "markdown",
   "metadata": {},
   "source": [
    "Shape test"
   ]
  },
  {
   "cell_type": "code",
   "execution_count": 5,
   "metadata": {},
   "outputs": [
    {
     "name": "stdout",
     "output_type": "stream",
     "text": [
      "(480, 640, 3)\n",
      "220 140 420 340\n"
     ]
    }
   ],
   "source": [
    "print(frame.shape)\n",
    "\n",
    "size = frame.shape\n",
    "x = size[1]\n",
    "y = size[0]\n",
    "\n",
    "left = int((x - 200) / 2)\n",
    "right = left + 200\n",
    "top = int((y - 200) / 2)\n",
    "bottom = top + 200\n",
    "\n",
    "print(left, top, right, bottom)\n"
   ]
  },
  {
   "cell_type": "markdown",
   "metadata": {},
   "source": [
    "Rectangle overlay test"
   ]
  },
  {
   "cell_type": "code",
   "execution_count": 4,
   "metadata": {},
   "outputs": [
    {
     "data": {
      "text/plain": [
       "True"
      ]
     },
     "execution_count": 4,
     "metadata": {},
     "output_type": "execute_result"
    }
   ],
   "source": [
    "image = cv2.imread('image_assets/saveFrame.png')\n",
    "\n",
    "start_point = (240, 140)\n",
    "end_point = (420, 340)\n",
    "color = (0, 0, 255)\n",
    "thickness = 2\n",
    "\n",
    "image = cv2.rectangle(image, start_point, end_point, color, thickness)\n",
    "cv2.imwrite(\"image_assets/saveFrameRect.png\", image)"
   ]
  }
 ],
 "metadata": {
  "kernelspec": {
   "display_name": "car_venv",
   "language": "python",
   "name": "python3"
  },
  "language_info": {
   "codemirror_mode": {
    "name": "ipython",
    "version": 3
   },
   "file_extension": ".py",
   "mimetype": "text/x-python",
   "name": "python",
   "nbconvert_exporter": "python",
   "pygments_lexer": "ipython3",
   "version": "3.11.9"
  }
 },
 "nbformat": 4,
 "nbformat_minor": 2
}
