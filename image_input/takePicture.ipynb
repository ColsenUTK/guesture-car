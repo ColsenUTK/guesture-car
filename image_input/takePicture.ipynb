{
 "cells": [
  {
   "cell_type": "code",
   "execution_count": 42,
   "metadata": {},
   "outputs": [],
   "source": [
    "import cv2"
   ]
  },
  {
   "cell_type": "code",
   "execution_count": 48,
   "metadata": {},
   "outputs": [
    {
     "name": "stderr",
     "output_type": "stream",
     "text": [
      "[ WARN:0@1959.562] global cap_v4l.cpp:999 open VIDEOIO(V4L2:/dev/video0): can't open camera by index\n",
      "[ERROR:0@1959.562] global obsensor_uvc_stream_channel.cpp:158 getStreamChannelGroup Camera index out of range\n"
     ]
    }
   ],
   "source": [
    "cam_port = 0\n",
    "cam = cv2.VideoCapture(cam_port)\n",
    "result, image = cam.read()"
   ]
  },
  {
   "cell_type": "code",
   "execution_count": 44,
   "metadata": {},
   "outputs": [
    {
     "name": "stdout",
     "output_type": "stream",
     "text": [
      "error detected\n"
     ]
    }
   ],
   "source": [
    "if result:\n",
    "\n",
    "    cv2.imshow(\"GeeksForGeeks\", image)\n",
    "    cv2.imwrite(\"image_assets/GeeksForGeeks.png\", image)\n",
    "    cv2.waitKey(0) \n",
    "    cv2.destroyWindow(\"GeeksForGeeks\") \n",
    "\n",
    "else:\n",
    "    print(\"error detected\")\n"
   ]
  }
 ],
 "metadata": {
  "kernelspec": {
   "display_name": ".venv",
   "language": "python",
   "name": "python3"
  },
  "language_info": {
   "codemirror_mode": {
    "name": "ipython",
    "version": 3
   },
   "file_extension": ".py",
   "mimetype": "text/x-python",
   "name": "python",
   "nbconvert_exporter": "python",
   "pygments_lexer": "ipython3",
   "version": "3.10.12"
  }
 },
 "nbformat": 4,
 "nbformat_minor": 2
}
