{
 "cells": [
  {
   "cell_type": "code",
   "execution_count": null,
   "id": "6ef8ba20-dd1e-49db-aeaf-f374a5505d1d",
   "metadata": {},
   "outputs": [],
   "source": [
    "import tensorflow\n",
    "from tensorflow import keras\n",
    "from PIL import Image\n",
    "import os\n",
    "import numpy as np"
   ]
  },
  {
   "cell_type": "code",
   "execution_count": null,
   "id": "248c853f-97a9-4bf1-9e1c-d9dc80081933",
   "metadata": {},
   "outputs": [
    {
     "name": "stdout",
     "output_type": "stream",
     "text": [
      "c:\\Users\\colse\\Projects\\GestureCar/COSC307_Final_CNN.keras\n"
     ]
    }
   ],
   "source": [
    "# Load model config file\n",
    "cwd = os.getcwd() # current directory you're working in\n",
    "# print(cwd)\n",
    "# print(f\"{cwd}/COSC307_Final_CNN.keras\")\n",
    "model = keras.models.load_model(f\"{cwd}/COSC307_Final_CNN.keras\")"
   ]
  },
  {
   "cell_type": "code",
   "execution_count": null,
   "id": "d7d81adc-6e8f-4776-b10e-30b6972ebf28",
   "metadata": {},
   "outputs": [],
   "source": [
    "# For passing input to the model\n",
    "\n",
    "path = \"image_input/image_assets/saveFrame256.png\"\n",
    "\n",
    "# This will help get your images into PIL format\n",
    "# https://www.tensorflow.org/api_docs/python/tf/keras/utils/load_img#returns\n",
    "img = tf.keras.utils.load_img(\n",
    "    path, # TODO: replace with path to image in image_input\n",
    "    color_mode='grayscale',\n",
    "    target_size=(256, 256),\n",
    "    interpolation='nearest',\n",
    "    keep_aspect_ratio=False\n",
    ")\n",
    "\n",
    "input_arr = keras.utils.img_to_array(img) / 255.0 # Model expects normalized input\n",
    "input_arr = np.array([input_arr])\n",
    "input_tensor = tf.convert_to_tensor(input_arr, dtype=tf.float32)\n",
    "input_tensor = tf.expand_dims(input_tensor, axis=0) # add the batch dimension to the tensor\n",
    "\n",
    "predictions = model.predict(input_tensor)"
   ]
  },
  {
   "cell_type": "code",
   "execution_count": null,
   "id": "b18e0522-7b48-4024-a3db-3c58b27c8f09",
   "metadata": {},
   "outputs": [],
   "source": []
  }
 ],
 "metadata": {
  "kernelspec": {
   "display_name": "car_venv",
   "language": "python",
   "name": "python3"
  },
  "language_info": {
   "codemirror_mode": {
    "name": "ipython",
    "version": 3
   },
   "file_extension": ".py",
   "mimetype": "text/x-python",
   "name": "python",
   "nbconvert_exporter": "python",
   "pygments_lexer": "ipython3",
   "version": "3.10.4"
  }
 },
 "nbformat": 4,
 "nbformat_minor": 5
}
