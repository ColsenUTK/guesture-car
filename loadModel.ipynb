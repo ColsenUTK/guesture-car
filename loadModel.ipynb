{
 "cells": [
  {
   "cell_type": "code",
   "execution_count": 30,
   "id": "f365212c-a957-415e-bea0-4b73ee9ca6ed",
   "metadata": {},
   "outputs": [
    {
     "name": "stdout",
     "output_type": "stream",
     "text": [
      "\u001b[1m1/1\u001b[0m \u001b[32m━━━━━━━━━━━━━━━━━━━━\u001b[0m\u001b[37m\u001b[0m \u001b[1m0s\u001b[0m 68ms/step\n",
      "[[1.4169086e-04 9.8601335e-01 2.4551313e-04 2.1755573e-04 1.3381878e-02]]\n",
      "Predicted class: Y, Probability: 0.9860133528709412\n",
      "Predicted class: V, Probability: 0.013381877914071083\n",
      "Predicted class: R, Probability: 0.0002455131325405091\n",
      "Predicted class: O, Probability: 0.0002175557310692966\n",
      "Predicted class: P, Probability: 0.00014169086352922022\n"
     ]
    }
   ],
   "source": [
    "import tensorflow as tf\n",
    "from tensorflow.keras.models import load_model\n",
    "from PIL import Image\n",
    "import numpy as np\n",
    "\n",
    "# Load the trained Keras model\n",
    "model = load_model('COSC307_limited_data_CNN2.keras')  # Replace with the path to your model file\n",
    "\n",
    "# Function to preprocess the image\n",
    "# Apply mean/std from training data\n",
    "mean = 128.33125\n",
    "std = 15.842568\n",
    "def preprocess_image(image_path):\n",
    "    # Open the image in grayscale mode\n",
    "    img = Image.open(image_path).convert('L')  # 'L' mode converts to grayscale\n",
    "    # Resize the image to (128, 128)\n",
    "    img = img.resize((128, 128))\n",
    "    # Convert the image to a NumPy array and scale pixel values to [-1, 1]\n",
    "    img_array = (np.array(img, dtype=np.float32) - mean) / std\n",
    "    # Add batch size (1) and channel dimension (grayscale is 1 channel)\n",
    "    img_array = np.expand_dims(img_array, axis=(0, -1))  # Shape: (1, 128, 128, 1)\n",
    "    return img_array\n",
    "\n",
    "# Provide the path to your image\n",
    "image_path = 'image_input/image_assets/saveFrame256.png'  # Replace with your image file path\n",
    "processed_image = preprocess_image(image_path)\n",
    "\n",
    "# Make a prediction\n",
    "prediction = model.predict(processed_image, batch_size=1)\n",
    "maxx = 0\n",
    "maxIndex = -1\n",
    "\n",
    "print(prediction)\n",
    "\n",
    "'''\n",
    "# Print single most likely class\n",
    "for index, prediction in enumerate(prediction[0]):\n",
    "    if prediction > maxx:\n",
    "        maxx = prediction\n",
    "        maxIndex = index\n",
    "print(f\"Predicted class: {chr(ord('A') + maxIndex)}, Probability: {maxx}\") '''\n",
    "\n",
    "# print 5 most likely classes:\n",
    "prediction_indices = np.argsort((prediction[0]))[::-1]\n",
    "sorted_prediction = prediction[0][prediction_indices]\n",
    "\n",
    "letters = ['P','Y','R','O','V']\n",
    "\n",
    "for i in range(5):\n",
    "  print(f\"Predicted class: {letters[prediction_indices[i]]}, Probability: {sorted_prediction[i]}\") "
   ]
  }
 ],
 "metadata": {
  "kernelspec": {
   "display_name": "car_venv",
   "language": "python",
   "name": "python3"
  },
  "language_info": {
   "codemirror_mode": {
    "name": "ipython",
    "version": 3
   },
   "file_extension": ".py",
   "mimetype": "text/x-python",
   "name": "python",
   "nbconvert_exporter": "python",
   "pygments_lexer": "ipython3",
   "version": "3.11.9"
  }
 },
 "nbformat": 4,
 "nbformat_minor": 5
}
