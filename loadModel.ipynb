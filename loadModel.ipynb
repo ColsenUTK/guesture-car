{
 "cells": [
  {
   "cell_type": "code",
   "execution_count": 1,
   "id": "6ef8ba20-dd1e-49db-aeaf-f374a5505d1d",
   "metadata": {},
   "outputs": [],
   "source": [
    "import tensorflow as tf\n",
    "from tensorflow import keras\n",
    "from PIL import Image\n",
    "import os\n",
    "import numpy as np"
   ]
  },
  {
   "cell_type": "code",
   "execution_count": 21,
   "id": "248c853f-97a9-4bf1-9e1c-d9dc80081933",
   "metadata": {},
   "outputs": [],
   "source": [
    "# Load model config file\n",
    "cwd = os.getcwd() # current directory you're working in\n",
    "# print(cwd)\n",
    "# print(f\"{cwd}/COSC307_Final_CNN.keras\")\n",
    "model = keras.models.load_model(f\"{cwd}/COSC307_Final_CNN.keras\")"
   ]
  },
  {
   "cell_type": "code",
   "execution_count": 49,
   "id": "d7d81adc-6e8f-4776-b10e-30b6972ebf28",
   "metadata": {},
   "outputs": [
    {
     "name": "stdout",
     "output_type": "stream",
     "text": [
      "\u001b[1m1/1\u001b[0m \u001b[32m━━━━━━━━━━━━━━━━━━━━\u001b[0m\u001b[37m\u001b[0m \u001b[1m0s\u001b[0m 42ms/step\n"
     ]
    }
   ],
   "source": [
    "# For passing input to the model\n",
    "\n",
    "path = \"image_input/image_assets/saveFrame256.png\"\n",
    "\n",
    "# This will help get your images into PIL format\n",
    "# https://www.tensorflow.org/api_docs/python/tf/keras/utils/load_img#returns\n",
    "img = tf.keras.utils.load_img(\n",
    "    path, # TODO: replace with path to image in image_input\n",
    "    color_mode='grayscale',\n",
    "    target_size=(256, 256),\n",
    "    interpolation='nearest',\n",
    "    keep_aspect_ratio=False\n",
    ")\n",
    "\n",
    "input_arr = keras.utils.img_to_array(img) / 255.0 # Model expects normalized input\n",
    "input_tensor = tf.expand_dims(input_arr, axis=0)\n",
    "# input_arr = np.array([input_arr])\n",
    "# input_tensor = tf.convert_to_tensor(input_arr, dtype=tf.float32)\n",
    "# input_tensor = tf.expand_dims(input_tensor, axis=0) # add the batch dimension to the tensor\n",
    "\n",
    "predictions = model.predict(input_tensor)"
   ]
  },
  {
   "cell_type": "code",
   "execution_count": 50,
   "id": "b18e0522-7b48-4024-a3db-3c58b27c8f09",
   "metadata": {},
   "outputs": [
    {
     "name": "stdout",
     "output_type": "stream",
     "text": [
      "P\n",
      "[9.9279453e-21 9.7869435e-19 2.9261339e-27 7.8010543e-17 2.4481625e-11\n",
      " 1.6065959e-06 6.0759990e-06 2.4896832e-10 3.6409227e-09 1.4083626e-06\n",
      " 2.9868354e-05 2.5643915e-10 7.8894558e-10 4.4836484e-06 1.9155576e-15\n",
      " 9.3918755e-11 1.0252895e-14 9.4963382e-10 4.0848650e-20 7.7077141e-13\n",
      " 2.5428271e-12 3.0380867e-05 3.6310981e-04 1.8679845e-12 1.3471074e-06\n",
      " 1.8088197e-14 1.5937308e-05 1.4794666e-22 9.9954575e-01]\n"
     ]
    }
   ],
   "source": [
    "# values = ['A', 'B', 'C', 'D', 'del', 'E', 'F', 'G', 'H', 'I', 'J', 'K', 'L', 'M', 'N', 'nothing', 'O', 'P', 'Q', 'R', 'S', 'space', 'T', 'U', 'V', 'W', 'X', 'Y']\n",
    "\n",
    "values = ['A','C','L','P','Y']\n",
    "indexes = [0, 2, 12, 17, 27]\n",
    "keys = []\n",
    "for i in indexes:\n",
    "    keys.append(predictions[0][i])\n",
    "\n",
    "command = values[np.argmax(keys)]\n",
    "print(command)\n",
    "print(predictions[0])"
   ]
  },
  {
   "cell_type": "code",
   "execution_count": null,
   "id": "7125dbe1",
   "metadata": {},
   "outputs": [
    {
     "name": "stdout",
     "output_type": "stream",
     "text": [
      "['A', 'B', 'C', 'D', 'del', 'E', 'F', 'G', 'H', 'I', 'J', 'K', 'L', 'M', 'N', 'nothing', 'O', 'P', 'Q', 'R', 'S', 'space', 'T', 'U', 'V', 'W', 'X']\n"
     ]
    }
   ],
   "source": []
  }
 ],
 "metadata": {
  "kernelspec": {
   "display_name": "car_venv",
   "language": "python",
   "name": "python3"
  },
  "language_info": {
   "codemirror_mode": {
    "name": "ipython",
    "version": 3
   },
   "file_extension": ".py",
   "mimetype": "text/x-python",
   "name": "python",
   "nbconvert_exporter": "python",
   "pygments_lexer": "ipython3",
   "version": "3.11.9"
  }
 },
 "nbformat": 4,
 "nbformat_minor": 5
}
