{
 "cells": [
  {
   "cell_type": "code",
   "execution_count": 9,
   "id": "f365212c-a957-415e-bea0-4b73ee9ca6ed",
   "metadata": {},
   "outputs": [
    {
     "name": "stdout",
     "output_type": "stream",
     "text": [
      "\u001b[1m1/1\u001b[0m \u001b[32m━━━━━━━━━━━━━━━━━━━━\u001b[0m\u001b[37m\u001b[0m \u001b[1m0s\u001b[0m 201ms/step\n",
      "[[7.3526017e-08 2.6266284e-06 1.8051899e-06 1.1369560e-07 3.0381768e-04\n",
      "  1.7908543e-02 4.9252278e-05 2.0945800e-08 2.0412850e-11 9.8415017e-05\n",
      "  1.3180662e-05 1.0869695e-07 5.5429682e-06 2.3484913e-06 3.0700342e-08\n",
      "  2.2101499e-02 3.5332328e-01 1.1799962e-06 4.0995443e-04 5.9054673e-01\n",
      "  7.1188026e-07 1.4889353e-02 3.3984630e-04 1.5405324e-06]]\n",
      "Predicted class: G, Probability: 0.590546727180481\n",
      "Predicted class: P, Probability: 0.3533232808113098\n",
      "Predicted class: Y, Probability: 0.022101499140262604\n",
      "Predicted class: H, Probability: 0.017908543348312378\n",
      "Predicted class: N, Probability: 0.014889352954924107\n"
     ]
    }
   ],
   "source": [
    "import tensorflow as tf\n",
    "from tensorflow.keras.models import load_model\n",
    "from PIL import Image\n",
    "import numpy as np\n",
    "\n",
    "# Load the trained Keras model\n",
    "model = load_model('models/COSC307_11_24_24_CNN.keras') \n",
    "\n",
    "# Function to preprocess the image\n",
    "# Apply mean/std from training data\n",
    "mean = 128.33125\n",
    "std = 15.842568\n",
    "def preprocess_image(image_path):\n",
    "    # Open the image in grayscale mode\n",
    "    img = Image.open(image_path).convert('L')  # 'L' mode converts to grayscale\n",
    "    # Resize the image to (128, 128)\n",
    "    img = img.resize((128, 128))\n",
    "    # Convert the image to a NumPy array and scale pixel values to [-1, 1]\n",
    "    img_array = (np.array(img, dtype=np.float32) - mean) / std\n",
    "    # Add batch size (1) and channel dimension (grayscale is 1 channel)\n",
    "    img_array = np.expand_dims(img_array, axis=(0, -1))  # Shape: (1, 128, 128, 1)\n",
    "    return img_array\n",
    "\n",
    "# Provide the path to your image\n",
    "# image_path = 'image_input/image_assets/saveFrame256.png' \n",
    "image_path = 'image_assets/test_h.jpg'\n",
    "processed_image = preprocess_image(image_path)\n",
    "\n",
    "# Make a prediction\n",
    "prediction = model.predict(processed_image, batch_size=1)\n",
    "maxx = 0\n",
    "maxIndex = -1\n",
    "\n",
    "print(prediction)\n",
    "\n",
    "'''\n",
    "# Print single most likely class\n",
    "for index, prediction in enumerate(prediction[0]):\n",
    "    if prediction > maxx:\n",
    "        maxx = prediction\n",
    "        maxIndex = index\n",
    "print(f\"Predicted class: {chr(ord('A') + maxIndex)}, Probability: {maxx}\") '''\n",
    "\n",
    "# print 5 most likely classes:\n",
    "prediction_indices = np.argsort((prediction[0]))[::-1]\n",
    "sorted_prediction = prediction[0][prediction_indices]\n",
    "\n",
    "# letters = ['P','Y','R','O','V']\n",
    "letters = ['U', 'W', 'O', 'L', 'F', 'H', 'R', 'T', 'C', 'E', 'B', 'K', 'S', 'A', 'D', 'Y', 'P', 'X', 'M', 'G', 'V', 'N', 'I', 'Q']\n",
    "for i in range(5):\n",
    "    print(f\"Predicted class: {letters[prediction_indices[i]]}, Probability: {sorted_prediction[i]}\") \n",
    "    # print(f\"Predicted class: {chr(ord('A') + sorted_prediction[i])}, Probability: {sorted_prediction[i]}\") "
   ]
  },
  {
   "cell_type": "code",
   "execution_count": null,
   "id": "eaed5c40-dee9-4113-9002-253b07dea40a",
   "metadata": {},
   "outputs": [],
   "source": []
  }
 ],
 "metadata": {
  "kernelspec": {
   "display_name": "Python 3 (ipykernel)",
   "language": "python",
   "name": "python3"
  },
  "language_info": {
   "codemirror_mode": {
    "name": "ipython",
    "version": 3
   },
   "file_extension": ".py",
   "mimetype": "text/x-python",
   "name": "python",
   "nbconvert_exporter": "python",
   "pygments_lexer": "ipython3",
   "version": "3.11.9"
  }
 },
 "nbformat": 4,
 "nbformat_minor": 5
}
